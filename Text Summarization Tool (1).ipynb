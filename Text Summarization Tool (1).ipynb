{
 "cells": [
  {
   "cell_type": "markdown",
   "id": "60e702e5-0718-4d9f-8fe1-f84d3b3fa789",
   "metadata": {},
   "source": [
    "TEXT SUMMARIZATION TOOL:"
   ]
  },
  {
   "cell_type": "raw",
   "id": "d5f80e0d-45c8-44b0-b35b-a52d3f96c21d",
   "metadata": {},
   "source": [
    "The goal is to summarize a long article into a few key sentences using NLP (Natural Language Processing).\n",
    "Im using the Sumy library, which provides extractive summarization. It picks the most important sentences from the original text."
   ]
  },
  {
   "cell_type": "raw",
   "id": "4d3a6002-bdfd-44d3-be80-084b26c2e28c",
   "metadata": {},
   "source": [
    "Install Required Libraries:"
   ]
  },
  {
   "cell_type": "markdown",
   "id": "fe5e7ec7-9325-4264-afb0-1192db73104f",
   "metadata": {},
   "source": [
    "!pip install sumy nltk"
   ]
  },
  {
   "cell_type": "code",
   "execution_count": 23,
   "id": "e9aca0ca-4f48-4cc0-8505-2549f3998d45",
   "metadata": {},
   "outputs": [
    {
     "name": "stdout",
     "output_type": "stream",
     "text": [
      "Collecting sumy\n",
      "  Downloading sumy-0.11.0-py2.py3-none-any.whl.metadata (7.5 kB)\n",
      "Collecting docopt<0.7,>=0.6.1 (from sumy)\n",
      "  Downloading docopt-0.6.2.tar.gz (25 kB)\n",
      "  Preparing metadata (setup.py): started\n",
      "  Preparing metadata (setup.py): finished with status 'done'\n",
      "Collecting breadability>=0.1.20 (from sumy)\n",
      "  Downloading breadability-0.1.20.tar.gz (32 kB)\n",
      "  Preparing metadata (setup.py): started\n",
      "  Preparing metadata (setup.py): finished with status 'done'\n",
      "Requirement already satisfied: requests>=2.7.0 in c:\\users\\anshi\\anaconda3\\lib\\site-packages (from sumy) (2.32.3)\n",
      "Collecting pycountry>=18.2.23 (from sumy)\n",
      "  Downloading pycountry-24.6.1-py3-none-any.whl.metadata (12 kB)\n",
      "Requirement already satisfied: nltk>=3.0.2 in c:\\users\\anshi\\anaconda3\\lib\\site-packages (from sumy) (3.9.1)\n",
      "Requirement already satisfied: chardet in c:\\users\\anshi\\anaconda3\\lib\\site-packages (from breadability>=0.1.20->sumy) (4.0.0)\n",
      "Requirement already satisfied: lxml>=2.0 in c:\\users\\anshi\\anaconda3\\lib\\site-packages (from breadability>=0.1.20->sumy) (5.2.1)\n",
      "Requirement already satisfied: click in c:\\users\\anshi\\anaconda3\\lib\\site-packages (from nltk>=3.0.2->sumy) (8.1.7)\n",
      "Requirement already satisfied: joblib in c:\\users\\anshi\\anaconda3\\lib\\site-packages (from nltk>=3.0.2->sumy) (1.4.2)\n",
      "Requirement already satisfied: regex>=2021.8.3 in c:\\users\\anshi\\anaconda3\\lib\\site-packages (from nltk>=3.0.2->sumy) (2024.9.11)\n",
      "Requirement already satisfied: tqdm in c:\\users\\anshi\\anaconda3\\lib\\site-packages (from nltk>=3.0.2->sumy) (4.66.5)\n",
      "Requirement already satisfied: charset-normalizer<4,>=2 in c:\\users\\anshi\\anaconda3\\lib\\site-packages (from requests>=2.7.0->sumy) (3.3.2)\n",
      "Requirement already satisfied: idna<4,>=2.5 in c:\\users\\anshi\\anaconda3\\lib\\site-packages (from requests>=2.7.0->sumy) (3.7)\n",
      "Requirement already satisfied: urllib3<3,>=1.21.1 in c:\\users\\anshi\\anaconda3\\lib\\site-packages (from requests>=2.7.0->sumy) (2.2.3)\n",
      "Requirement already satisfied: certifi>=2017.4.17 in c:\\users\\anshi\\anaconda3\\lib\\site-packages (from requests>=2.7.0->sumy) (2024.12.14)\n",
      "Requirement already satisfied: colorama in c:\\users\\anshi\\anaconda3\\lib\\site-packages (from click->nltk>=3.0.2->sumy) (0.4.6)\n",
      "Downloading sumy-0.11.0-py2.py3-none-any.whl (97 kB)\n",
      "Downloading pycountry-24.6.1-py3-none-any.whl (6.3 MB)\n",
      "   ---------------------------------------- 0.0/6.3 MB ? eta -:--:--\n",
      "   --------- ------------------------------ 1.6/6.3 MB 8.4 MB/s eta 0:00:01\n",
      "   -------------- ------------------------- 2.4/6.3 MB 5.6 MB/s eta 0:00:01\n",
      "   ----------------------- ---------------- 3.7/6.3 MB 5.5 MB/s eta 0:00:01\n",
      "   ----------------------------- ---------- 4.7/6.3 MB 5.7 MB/s eta 0:00:01\n",
      "   ---------------------------------------  6.3/6.3 MB 5.8 MB/s eta 0:00:01\n",
      "   ---------------------------------------- 6.3/6.3 MB 5.7 MB/s eta 0:00:00\n",
      "Building wheels for collected packages: breadability, docopt\n",
      "  Building wheel for breadability (setup.py): started\n",
      "  Building wheel for breadability (setup.py): finished with status 'done'\n",
      "  Created wheel for breadability: filename=breadability-0.1.20-py2.py3-none-any.whl size=21738 sha256=66c3d510794495de2d18b73f8822ab01c7e7238f795e77754d1d508048b8763c\n",
      "  Stored in directory: c:\\users\\anshi\\appdata\\local\\pip\\cache\\wheels\\32\\99\\64\\59305409cacd03aa03e7bddf31a9db34b1fa7033bd41972662\n",
      "  Building wheel for docopt (setup.py): started\n",
      "  Building wheel for docopt (setup.py): finished with status 'done'\n",
      "  Created wheel for docopt: filename=docopt-0.6.2-py2.py3-none-any.whl size=13775 sha256=fafe2f3902c9e62725b324481b7b046da74620264e40660eea68b0c8e71d4317\n",
      "  Stored in directory: c:\\users\\anshi\\appdata\\local\\pip\\cache\\wheels\\1a\\bf\\a1\\4cee4f7678c68c5875ca89eaccf460593539805c3906722228\n",
      "Successfully built breadability docopt\n",
      "Installing collected packages: docopt, pycountry, breadability, sumy\n",
      "Successfully installed breadability-0.1.20 docopt-0.6.2 pycountry-24.6.1 sumy-0.11.0\n"
     ]
    }
   ],
   "source": [
    "!pip install sumy"
   ]
  },
  {
   "cell_type": "raw",
   "id": "778f4806-2aba-486b-8678-db93da5bfaa7",
   "metadata": {},
   "source": [
    "Import Libraries and Download Tokenizer:"
   ]
  },
  {
   "cell_type": "code",
   "execution_count": 25,
   "id": "1c3d9db9-93b4-4e1c-9e1f-9aedfe591f65",
   "metadata": {
    "scrolled": true
   },
   "outputs": [
    {
     "name": "stderr",
     "output_type": "stream",
     "text": [
      "[nltk_data] Downloading package punkt to\n",
      "[nltk_data]     C:\\Users\\anshi\\AppData\\Roaming\\nltk_data...\n",
      "[nltk_data]   Package punkt is already up-to-date!\n"
     ]
    },
    {
     "data": {
      "text/plain": [
       "True"
      ]
     },
     "execution_count": 25,
     "metadata": {},
     "output_type": "execute_result"
    }
   ],
   "source": [
    "from sumy.parsers.plaintext import PlaintextParser\n",
    "from sumy.nlp.tokenizers import Tokenizer\n",
    "from sumy.summarizers.lsa import LsaSummarizer\n",
    "import nltk\n",
    "\n",
    "nltk.download('punkt')\n"
   ]
  },
  {
   "cell_type": "code",
   "execution_count": 32,
   "id": "9c00df97-21b6-4c41-8051-749de96ae896",
   "metadata": {},
   "outputs": [
    {
     "data": {
      "text/plain": [
       "['This is a test.', \"Let's see if it works.\"]"
      ]
     },
     "execution_count": 32,
     "metadata": {},
     "output_type": "execute_result"
    }
   ],
   "source": [
    "from nltk.tokenize import sent_tokenize\n",
    "sent_tokenize(\"This is a test. Let's see if it works.\")"
   ]
  },
  {
   "cell_type": "raw",
   "id": "d7c0c6b9-e4e9-4c26-a65e-72be4effdb06",
   "metadata": {},
   "source": [
    "Define the Summarization Function:"
   ]
  },
  {
   "cell_type": "code",
   "execution_count": 34,
   "id": "3d3423c2-a711-4205-8841-a203952c6b38",
   "metadata": {},
   "outputs": [],
   "source": [
    "def summarize_text(text, num_sentences=5):\n",
    "    parser = PlaintextParser.from_string(text, Tokenizer(\"english\"))\n",
    "    summarizer = LsaSummarizer()\n",
    "    summary = summarizer(parser.document, num_sentences)\n",
    "    return \" \".join(str(sentence) for sentence in summary)\n"
   ]
  },
  {
   "cell_type": "raw",
   "id": "0ced42ab-7e18-46b5-a6be-1b9dfcb4339a",
   "metadata": {},
   "source": [
    "Input Your Long Text"
   ]
  },
  {
   "cell_type": "code",
   "execution_count": 36,
   "id": "6c347595-f8b3-4142-863d-e6117ab6506b",
   "metadata": {},
   "outputs": [],
   "source": [
    "long_text = \"\"\"The 20th century witnessed an unprecedented acceleration of progress in nearly every field of science, and medicine was no exception. The advancements made during this era not only dramatically increased life expectancy but also fundamentally transformed the way we understand, diagnose, and treat diseases. This period saw the rise of revolutionary technologies, the discovery of life-saving drugs, and the development of innovative surgical techniques that continue to shape medical practice today.The Dawn of New Diagnostic CapabilitiesAt the beginning of the 20th century, medical diagnosis relied heavily on physical examination and rudimentary laboratory tests. However, the discovery of X-rays by Wilhelm Conrad Röntgen in 1895, just before the turn of the century, heralded a new era of medical imaging. X-rays allowed physicians to visualize the body's internal structures without invasive surgery, revolutionizing the detection of fractures, foreign bodies, and various diseases. This breakthrough paved the way for the development of even more sophisticated imaging techniques in the following decades.Ultrasound technology, which utilizes high-frequency sound waves to create images of internal organs, gained prominence in the mid-20th century. Its non-invasive nature and ability to provide real-time images made it an invaluable tool for obstetrics, cardiology, and abdominal imaging. The development of computed tomography (CT) scans in the 1970s further enhanced diagnostic capabilities. By combining X-ray technology with computer processing, CT scans produce detailed cross-sectional images of the body, enabling the detection of subtle abnormalities that were previously undetectable.The advent of magnetic resonance imaging (MRI) in the 1980s represented another quantum leap in medical imaging. MRI utilizes powerful magnetic fields and radio waves to generate high-resolution images of soft tissues, the brain, and the spinal cord. Its superior ability to differentiate between different types of tissue made it indispensable for diagnosing neurological disorders, cancer, and musculoskeletal conditions. These advancements in medical imaging empowered physicians with increasingly precise tools, leading to earlier and more accurate diagnoses, and ultimately, better patient outcomes.The Age of PharmacologyThe 20th century also witnessed a revolution in pharmacology, with the discovery and development of a vast array of life-saving drugs. Perhaps the most significant breakthrough was the discovery of penicillin by Alexander Fleming in 1928. This serendipitous finding marked the beginning of the antibiotic era, transforming the treatment of bacterial infections. Diseases that were once major causes of mortality, such as pneumonia, tuberculosis, and syphilis, can now be effectively treated with antibiotics. The development of other antibiotics followed, each with its spectrum of activity against different types of bacteria.However, the 20th century was not just about fighting infections. The discovery of insulin in the early 1920s transformed the lives of people with diabetes. Before insulin therapy, type 1 diabetes was a fatal disease, often leading to death within months or years of diagnosis. Insulin injections allowed patients to manage their blood sugar levels and live relatively normal lives.The development of oral contraceptives in the 1950s had a profound impact on women's health and family planning. These medications provided women with greater control over their reproductive choices, leading to significant social and demographic changes. The 20th century also saw the development of effective treatments for a wide range of other conditions, including hypertension, heart disease, and mental illness. The introduction of antihypertensive drugs, for example, has dramatically reduced the incidence of strokes and heart attacks.Surgical Innovations: From Open Surgery to Minimally Invasive TechniquesSurgery also underwent a dramatic transformation in the 20th century. Early surgical procedures were often highly invasive, involving large incisions and prolonged recovery times. However, the development of anesthesia in the late 19th century made surgery less painful and more feasible. The 20th century saw significant advancements in surgical techniques, leading to improved outcomes and reduced patient morbidity.One of the most remarkable achievements was the development of organ transplantation. The first successful kidney transplant in 1954 paved the way for the transplantation of other organs, including the heart, liver, and lungs. These procedures offered a lifeline to patients with end-stage organ failure, but they also presented significant challenges, such as organ rejection. The development of immunosuppressive drugs helped to address this challenge, allowing transplant recipients to live longer and healthier lives.Cardiovascular surgery also made significant strides in the 20th century. The first successful open-heart surgery was performed in the 1950s, allowing surgeons to repair heart defects and perform coronary artery bypass surgery. These procedures revolutionized the treatment of heart disease, which remains a leading cause of death worldwide.Perhaps one of the most transformative surgical innovations of the late 20th century was the development of minimally invasive surgery. Techniques such as laparoscopy and endoscopy allowed surgeons to perform complex procedures through small incisions, using specialized instruments and cameras. These minimally invasive approaches resulted in less pain, scarring, and blood loss, as well as shorter hospital stays and faster recovery times.The Genetic RevolutionThe 20th century also ushered in the era of molecular medicine, driven by groundbreaking discoveries in genetics. The elucidation of the structure of DNA by James Watson and Francis Crick in 1953 provided the key to understanding the genetic basis of life. This discovery paved the way for the development of genetic testing, which allows for the identification of individuals at risk for inherited diseases.Gene therapy, the experimental technique of introducing genetic material into cells to treat or prevent disease, emerged as a promising field in the late 20th century. While still facing many challenges, gene therapy holds the potential to revolutionize the treatment of genetic disorders such as cystic fibrosis, hemophilia, and muscular dystrophy.The 20th century witnessed a remarkable transformation in the medical field. From the discovery of antibiotics to the development of organ transplantation and minimally invasive surgery, the advancements made during this era have profoundly impacted human health.\n",
    "\"\"\"\n"
   ]
  },
  {
   "cell_type": "code",
   "execution_count": 38,
   "id": "c156f7af-c00b-41fc-98fb-553d49e25010",
   "metadata": {},
   "outputs": [
    {
     "name": "stdout",
     "output_type": "stream",
     "text": [
      "🔍 Summary:\n",
      "\n",
      "Its superior ability to differentiate between different types of tissue made it indispensable for diagnosing neurological disorders, cancer, and musculoskeletal conditions. Diseases that were once major causes of mortality, such as pneumonia, tuberculosis, and syphilis, can now be effectively treated with antibiotics. Before insulin therapy, type 1 diabetes was a fatal disease, often leading to death within months or years of diagnosis. These medications provided women with greater control over their reproductive choices, leading to significant social and demographic changes. Early surgical procedures were often highly invasive, involving large incisions and prolonged recovery times.\n"
     ]
    }
   ],
   "source": [
    "summary = summarize_text(long_text, num_sentences=5)\n",
    "print(\"🔍 Summary:\\n\")\n",
    "print(summary)\n"
   ]
  },
  {
   "cell_type": "code",
   "execution_count": null,
   "id": "d2ab037f-73f3-437c-9bdf-0b198cd344f1",
   "metadata": {},
   "outputs": [],
   "source": []
  },
  {
   "cell_type": "code",
   "execution_count": null,
   "id": "e4411d77-58cb-44d3-900e-ec0fc93b2804",
   "metadata": {},
   "outputs": [],
   "source": []
  },
  {
   "cell_type": "code",
   "execution_count": null,
   "id": "8e4a1cf9-1bf9-4021-b40d-596f0950db87",
   "metadata": {},
   "outputs": [],
   "source": []
  },
  {
   "cell_type": "code",
   "execution_count": null,
   "id": "85fa1a22-35db-4ae9-8ce6-6a1229acde1f",
   "metadata": {},
   "outputs": [],
   "source": []
  }
 ],
 "metadata": {
  "kernelspec": {
   "display_name": "Python [conda env:base] *",
   "language": "python",
   "name": "conda-base-py"
  },
  "language_info": {
   "codemirror_mode": {
    "name": "ipython",
    "version": 3
   },
   "file_extension": ".py",
   "mimetype": "text/x-python",
   "name": "python",
   "nbconvert_exporter": "python",
   "pygments_lexer": "ipython3",
   "version": "3.12.7"
  }
 },
 "nbformat": 4,
 "nbformat_minor": 5
}
